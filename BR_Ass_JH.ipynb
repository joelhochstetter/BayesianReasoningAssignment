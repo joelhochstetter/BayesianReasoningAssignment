{
 "cells": [
  {
   "cell_type": "markdown",
   "metadata": {},
   "source": [
    "# Question 1\n",
    "**A monkey called Bungles has been trained for a sideshow at the circus to play a gambling game with a pea hidden under one of three cups which are then shuffled about. However, Bungles takes a somewhat haphazard attitude to his work, and 10% of the time he simply neglects to put a pea under any of the cups.**\n"
   ]
  },
  {
   "cell_type": "markdown",
   "metadata": {},
   "source": [
    "**(a)\n",
    "While engaged in a betting game with Bungles, two of the cups at random are turned over and shown to be empty. Using Bayes theorem, what is the chance now of a pea under the final cup?** \n",
    "\n",
    "\n",
    "Bayes theorem states that \n",
    "$$P(H_i|D,I)=\\frac{P(H_i|I) P(D|H_i, I)}{P(D|I)}$$\n",
    "\n",
    "$H_i$ proposition asserting truth of a hypothesis of interest\n",
    "\n",
    "I is proposition representing prior information\n",
    "\n",
    "D is proposition represeting data\n",
    "\n",
    "$P(D|I)$ is a normalisation factor\n",
    "\n",
    "$P(H_i|D,I)$ is called the posterior. Probability of hypothesis being true given data and prior information.\n",
    "\n",
    "$P(D|H_i I)$ is called the likelihood. Probability of obtaining the data given that the hypothesis is true.\n",
    "\n",
    "$P(H_i|I)$ is the probability of the hypothesis being true given new data\n",
    "\n",
    "Here I denote \"not\" as $!$.\n",
    "\n",
    "In our case $H_1$ is the proposition that the pea is under the final cup. Let $F$ be the proposition that he forgot to put the pea below any of the cups. Prior information tells us $P(F|I)=0.1$ and hence $P(!F|I)=0.9$.\n",
    "\n",
    "We start with the prior \n",
    "$$P(H_1|I)=P(H_1|F,I)P(F|I)+P(H_1|!F,I)P(!F|I)$$\n",
    "$P(H_1|F,I)=0$ as if he forgot to put pea under any cup then there is no pea under the final cup. $P(H_1|!F,I)=1/3$ as there is equal chance the pea is under any of the 3 cups if its under one of the cups.\n",
    "\n",
    "Hence, $P(H_1|I)=1/3\\times0.9=0.3$.\n",
    "\n",
    "\n",
    "The likelihood $P(D|H_1,I) = 1$ as if the pea is under the 3rd cup then we know it is not under the first two as there is only 1 pea. \n",
    "\n",
    "Now the normalisation factor\n",
    "$$P(D|I)=P(D|H_1,I)P(H_1|I)+P(D|!H_1,I)P(!H_1|I)$$\n",
    "\n",
    "Now $P(D|!H_1,I) = P(D|!H_1,F,I)P(F|!H_1,I)+P(D|!H_1,!F,I)P(!F|!H_1,I)$. \n",
    "\n",
    "$P(D|!H_1,F,I)=1$ since if there are no peas then he will always obtain an empty cup. $P(D|!H_1,!F,I)=0$ as if there is a pea and it is not under the first two cups then it must be under the last cup which is clearly a contradiction.\n",
    "\n",
    "We must calculate $P(F|!H_1,I)=P(F,!H_1|I)/P(!H_1|I)$. $P(!H_1|I)=1-P(H_1|I)=0.7$. $P(F,!H_1|I)=P(!H_1|F,I)P(F|I)$. $P(!H_1|F,I) = 1$ as if he forgets to place any peas we are guaranteed to obtain no pea on final cup. Hence, $P(F,!H_1|I)=P(F|I)=0.1$. So $P(F|!H_1,I)=0.1/0.7=1/7$. Hence, $P(D|!H_1,I) = 1/7$\n",
    "\n",
    "\n",
    "Hence, $P(D|!H_1,I)=1\\times1/7=1/7$.\n",
    "\n",
    "This lets us evaluate the normalisation factor $P(D|I)=1\\times0.3+1/7\\times0.7=0.4$.\n",
    "\n",
    "This gives us our final answer.\n",
    "$$P(H_1|D,I)=\\frac{P(H_1|I) P(D|H_1, I)}{P(D|I)}=\\frac{0.3\\times 1}{0.4}=0.75$$.\n"
   ]
  },
  {
   "cell_type": "markdown",
   "metadata": {},
   "source": [
    "**(b) Bungles has a sister Wingnut, who is even worse. In addition to forgetting the pea 10% of the time, she sometimes puts two peas under two separate cups 5% of the time. In a game with Wingnut, one cup is turned over and found to be empty. Using a Bayesian approach, what is the chance that the second cup will have a pea?**\n",
    "\n",
    "*Now, $D$ is the proposition that the first cup is empty. Note $I$ has a different definition to part 1 also.*\n",
    "\n",
    "Let $H_2$ be the hypothesis that the second cup will be a pea in the wingnut game. \n",
    "\n",
    "Let $F$ be the proposition that he forgot to put the pea below any of the cups. Prior information tells us $P(F|I)=0.1$ and hence $P(!F|I)=0.9$. \n",
    "\n",
    "Let $T$ be the proposition that she puts two peas in two separate cups. Prior information tells us $P(T|I)=0.05$ and hence $P(!T|I)=0.95$. \n",
    "\n",
    "Let the proposition that that there is only one pea be O. $P(O|I)=P(!T,!F|I)=1-P(F|I)-P(T|I)=0.85$.\n",
    "\n",
    "$O$, $T$ and $F$ are mutually exclusive propositions.\n",
    "\n",
    "Bayes theorem tells us\n",
    "\n",
    "$$P(H_2|D,I)=\\frac{P(H_2|I) P(D|H_2, I)}{P(D|I)}$$\n",
    "\n",
    "First we calculate the prior $P(H_2|I)=P(H_2|F,I)P(F|I)+P(H_2|O,I)P(O|I)+P(H_2|T,I)P(T|I)$. Now, $P(H_2|F,I)=0$, $P(H_2|O,I)=1/3$ and $P(H_2|T,I)=2/3$. Hence, $P(H_2|I)=0\\times0.1+1/3\\times0.85+2/3\\times0.05=19/60$.\n",
    "\n",
    "\n",
    "Next we calculate the likelihood $P(D|H_2, I)=P(D|F,H_2, I)P(F|H_2,I)+P(D|O,H_2, I)P(O|H_2,I)+P(D|T,H_2, I)P(T|H_2,I)$. The data tells us the first cup is empty.\n",
    "$P(D|F,H_2, I)=0$ since $H_2$ contradicts $F$. $P(D|O,H_2, I)=1$ as if there is only one pea and it's in the second cup then the first cup must be empty. $P(D|O,H_2, I)=1/2$ as if there are two peas and one is in the second cup then the other must either be in the first or the third cup.\n",
    "\n",
    "$P(O|H_2,I) = \\frac{P(H_2|O,I)P(O|I)}{P(H_2|I)}=\\frac{1/3\\times0.85}{19/60}=17/19$\n",
    "\n",
    "$P(T|H_2,I) = \\frac{P(H_2|T,I)P(T|I)}{P(H_2|I)}=\\frac{2/3\\times0.05}{19/60}=2/19$\n",
    "\n",
    "Hence, $P(D|H_2, I)=1\\times17/19+1/2\\times2/19=18/19$\n",
    "\n",
    "Finally we calculate the normalisation factor. $P(D|I)=P(D|H_2,I)P(H_2|I)+P(D|!H_2,I)P(!H_2|I)$. From before $P(H_2|I)=19/60$ so $P(!H_2|I)=41/60$. Also we know $P(D|H_2,I)=18/19$. We must calculate $P(D|!H_2,I)=P(D|F,!H_2, I)P(F|!H_2,I)+P(D|O,!H_2, I)P(O|!H_2,I)+P(D|T,!H_2, I)P(T|!H_2,I)$. $P(D|F,!H_2, I)=1$ since all cups must be empty in this case. $P(D|O,!H_2, I)=1/2$ since with one pea and the first cup empty either the first or third cup must contain the pea. $P(D|T,!H_2, I)=0$ since we cannot have two empty cups if there are two peas.\n",
    "\n",
    "We require $P(F|!H_2,I) = \\frac{P(!H_2|F,I)P(F|I)}{P(!H_2|I)}$. We have $P(!H_2|F,I)=1-P(H_2|F,I)=1$, $P(F|I)=0.1$ and $P(!H_2|I)=41/60$. Hence $P(F|!H_2,I)=\\frac{1\\times0.1}{41/60}=6/41$.\n",
    "\n",
    "We require $P(O|!H_2,I) = \\frac{P(!H_2|O,I)P(O|I)}{P(!H_2|I)}$. We have $P(!H_2|O,I)=1-P(H_2|O,I)=2/3$, $P(O|I)=0.85$ and $P(!H_2|I)=41/60$. Hence $P(F|!H_2,I)=\\frac{2/3\\times0.85}{41/60}=34/41$.\n",
    "\n",
    "Hence, $P(D|!H_2,I)=P(D|F,!H_2, I)P(F|!H_2,I)+P(D|O,!H_2, I)P(O|!H_2,I)+P(D|T,!H_2, I)P(T|!H_2,I)=1\\times6/41+1/2\\times34/41=23/41$.\n",
    "\n",
    "Hence, $P(D|I)=P(D|H_2,I)P(H_2|I)+P(D|!H_2,I)P(!H_2|I)=18/19\\times19/60+41/60\\times23/41=41/60$.\n",
    "\n",
    "Putting this all together $P(H_2|D,I)=\\frac{P(H_2|I) P(D|H_2, I)}{P(D|I)}=\\frac{19/60\\times18/19}{41/60}=\\frac{18}{41}\\approx0.44$."
   ]
  },
  {
   "cell_type": "markdown",
   "metadata": {},
   "source": [
    "**(c) Continuing the same game with Wingnut, the second cup is turned over and also found to be empty. What is the chance that the final cup will have a pea?**\n",
    "\n",
    "Let  $H_3$  be the hypothesis that the third cup will be a pea in the wingnut game.\n",
    "\n",
    "We use the rest of the formalism from **(b)**.\n",
    "\n",
    "The information we now have is the probabilites for how many peas and the information that the first cup is empty. We denote this as $I_1=I,D$. $I$ and $D$ are the information and data from $(b)$. i.e. $D$ is the proposition that the first cup is empty.\n",
    "\n",
    "The new data is the second cup being empty. We denote this as $D_1=!H_2$.\n",
    "\n",
    "Applying Bayes rule $P(H_3|D_1,I_1)=\\frac{P(H_3|I_1) P(D_1|H_3, I_1)}{P(D_1|I_1)}$\n",
    "\n",
    "The prior $P(H_3|I_1)=P(H_3|I,D)$. $H_2$ and $H_3$ are independent events and an identical proposition (only the order is changing). So $P(H_3|I,D)=P(H_2|I,D)=\\frac{18}{41}$.\n",
    "\n",
    "For the normalisation $P(D_1|I_1)=P(!H_2|D,I)=1-P(H_2|D,I)=\\frac{23}{41}$.\n",
    "\n",
    "Finally we calculate the likelihood $P(D_1|H_3, I_1)=P(!H_2|H_3,D,I)=P(!H_2|H_3,D,I,F)P(F|H_3,D,I)+P(!H_2|H_3,D,I,O)P(O|H_3,D,I)+P(!H_2|H_3,D,I,T)P(T|H_3,D,I)$. Clearly $P(!H_2|H_3,D,I,F)=0$ since $H_3$ contradicts $F$ as there cannot be a pea under the 3rd cup if there are no peas. Also $P(!H_2|H_3,D,I,T)=0$ since there is no way that the second cup can be empty given that there are two peas and the first cup is also empty.\n",
    "\n",
    "We know $P(!H_2|H_3,D,I,F)+P(!H_2|H_3,D,I,O)+P(!H_2|H_3,D,I,T)=1$ so $P(!H_2|H_3,D,I,O)=1$.\n",
    "\n",
    "Using the product rule $P(O|H_3,D,I)=\\frac{P(H_3|O,D,I)P(O|D,I)}{P(H_3|D,I)}$. For $P(H_3|D,I)=P(H_2|D,I)=\\frac{18}{41}$ since these propositions are independent and identical. Also $P(H_3|O,D,I)=P(H_2|O,D,I)$ since $H_2$ and $H_3$ are independent and identical. But given there is only one pea it must be in either cup 2 or cup 3. So $P(H_3|O,D,I)+P(H_2|O,D,I)=1$. Hence, $P(H_3|O,D,I)=\\frac{1}{2}$. Now $P(O|D,I)=\\frac{P(D|O,I)P(O|I)}{P(D|I)}$. Recall that $P(D|I)=\\frac{41}{60}$ and $P(O|I)=\\frac{17}{20}$. We obtain $P(D|O,I)=\\frac{2}{3}$ since if there is only one pea 2 of the 3 cups must be empty and there is no bias towwards picking any cup. Hence $P(O|D,I)=\\frac{34}{41}$\n",
    "\n",
    "So the likelihood $P(D_1|H_3, I_1)=\\frac{34/41\\times1/2}{18/41}=\\frac{17}{18}$\n",
    "\n",
    "Putting this all together $P(H_3|D_1,I_1)=\\frac{P(H_3|I_1) P(D_1|H_3, I_1)}{P(D_1|I_1)}=\\frac{18/41\\times17/18}{18/41}=\\frac{23}{41}=\\frac{17}{23}\\approx$0.74."
   ]
  },
  {
   "cell_type": "markdown",
   "metadata": {},
   "source": [
    "# Question 2\n",
    "**After arriving on a tiny Caribbean island, you notice two cars in the airport taxi rank. The first has license plate number 7 and the second 42. Assuming taxis have license numbers starting from 1, what is the maximum likelihood estimate for the total number of carriages on the island? Plot the posterior probability for the total number N assuming a uniform prior. **\n",
    "\n",
    "If we choose a uniform prior then the posterior is proportional to the likelihood.\n",
    "\n",
    "The likelihood of picking a car of plate number m given there are a total of N cars is $\\frac{1}{N}$ if $m \\leq N$ and 0 if $m > N$.\n",
    "\n",
    "The posterior can be calculated by Bayes theorem.\n",
    "\n",
    "After the first piece of data our likelihood is $1/N$ for $N\\geq7$ and $0$ otherwise.\n",
    "\n",
    "So the posterior after the second piece of data is $1/N^2$ for $N\\geq42$ and $0$ otherwise.\n",
    "\n",
    "We can normalise this posterior by dividing by $\\sum_{N=42}^{\\infty}\\frac{1}{N^2}$. Here I've done this numerically by neglecting terms greater than 1000"
   ]
  },
  {
   "cell_type": "code",
   "execution_count": 87,
   "metadata": {},
   "outputs": [
    {
     "name": "stdout",
     "output_type": "stream",
     "text": [
      "The Maximum likelihood estimate is 42\n"
     ]
    },
    {
     "data": {
      "image/png": "[encoded data removed]",
      "text/plain": [
       "<Figure size 432x288 with 1 Axes>"
      ]
     },
     "metadata": {},
     "output_type": "display_data"
    }
   ],
   "source": [
    "import numpy as np\n",
    "import matplotlib.pyplot as plt\n",
    "\n",
    "maxN = 1000 #the maximum number of cars\n",
    "\n",
    "def normalise(posterior):\n",
    "    #normalises the posterior distribution\n",
    "    norm = 1 / sum(posterior)\n",
    "    return posterior * norm\n",
    "\n",
    "def calcLike(plate):\n",
    "    #calculates the likelihood function given the new plate number \"plate\"\n",
    "    like = np.zeros(maxN + 1) #creates an array for the likelihood\n",
    "    for N in range(plate,maxN+1): #set term to 1/N if plate > N\n",
    "        like[N] = 1/N\n",
    "    return like\n",
    "\n",
    "\n",
    "posterior1 = calcLike(7)\n",
    "\n",
    "#We then use the first posterior as our new prior and normalise\n",
    "posterior2 =  normalise(calcLike(42)*posterior1)\n",
    "\n",
    "MaxLike = np.argmax(posterior2) #returns index of maximum element of posterior\n",
    "\n",
    "print(\"The Maximum likelihood estimate is\", MaxLike)\n",
    "\n",
    "plt.figure()\n",
    "plt.title(\"Posterior\")\n",
    "plt.xlabel(\"Total number N\")\n",
    "plt.ylabel(\"Probability that N is maximum\")\n",
    "plt.xlim([0,100])\n",
    "#plt.ylim([0,1])\n",
    "plt.plot(posterior2)\n",
    "plt.show()"
   ]
  },
  {
   "cell_type": "markdown",
   "metadata": {},
   "source": [
    "# QUESTION 3\n",
    "\n",
    "** A long time ago, in a galaxy far, far away, astronomers at Corellia University are on the verge of a discovery that could cause a disturbing lack of faith in their previous beliefs. Their experiment consists of careful measurement of the value of p by observing circular objects (stars, globular clusters, galaxies) at various distances in space. Their data consists of the ratio of measurements of the circumference to the diameter as a function of Redshift distance Z, as given in the plot below:**\n",
    "\n",
    "<img src=\"https://raw.githubusercontent.com/joelhochstetter/BayesianReasoningAssignment/master/BR_Image1.PNG\">"
   ]
  },
  {
   "cell_type": "markdown",
   "metadata": {},
   "source": [
    "** (a) Examining these data, Professor Dot Antilles publishes her findings in Monthly Notices of the Galactic Republic concluding with the hypothesis $H_0$ that the data are consistent with random Gaussian noise with $\\sigma=0.75$. However, a Padawan student at the Jedi University of Coruscant carefully reanalyses the data and claims a better fit with the model $H_1$ - that a signal $\\pi_z=\\pi_0+A\\times Z$ has been observed, with the same noise. For this model $\\pi_0=3.14159$ and $A$ is the slope of the linear change with time. If true, this would sensationally imply that tiny Midi-Chlorians underpin the circle of life and have created an invisible field of energy that surrounds and penetrates us, binding the galaxy together! Designate this new model, called \"The Force\" as $H_1$ and use a Gaussian prior for $A$ with zero mean and standard deviation $\\delta=0.2$. Assuming a prior odds ratio of 1.0 (no preference for either model) compute the odds ratio for the two models $H_1/H_0$. From this, what is the probability that model $H_1$ is true based on the data. Should we believe in this new \"Force\"? **\n",
    "\n",
    "\n",
    "Odds ratio is defined as\n",
    "$O=\\frac{P(H_1|I)}{P(H_0|I)}\\frac{P(D|H_1,I)}{P(D|H_0,I)}$\n",
    "\n",
    "In our case the prior odds ratio is 1.0 so\n",
    "$$O=\\frac{P(D|H_1,I)}{P(D|H_0,I)}$$\n",
    "\n",
    "We can define like0 = $P(D|H_0,I)$ and like1 = $P(D|H_1,I)$.\n",
    "\n",
    "As both models assume Gaussian noise we can calculate the likelihoods with the following recipe proposed in the lectures. \n",
    "\n",
    "For some model M and paramater T, let $Tf_i$ be the values for individual parameters predicted by the model. Let $d_i$ be the actual data points. The errors for these data points are $e_i$. $d_i=Tf_i+e_i$. The model is given so we have a simple relation $P(d_i) = P(e_i)$.\n",
    "\n",
    "The likelihood function assuming Gassian noise with standard deviation $\\sigma_n$ is given as. Supposing we have N data points.\n",
    "\n",
    "$$P(D|M,T,I)=P(E_1,E_2,...,E_N|M,T,I)=\\prod_{i=1}^{N}P(E_i|M,T,I)=\\sigma_n^{-N}(2\\pi)^{-N/2}\\exp{\\left\\{\\frac{-\\Sigma_i(d_i-\\pi f_i)^2}{2\\sigma_n^2}\\right\\}}$$\n",
    "\n",
    "Model 0 tells us that $\\pi f_i$ is constant at $\\pi_0=\\pi$. So it's likelihood is given by\n",
    "\n",
    "$$L_0=P(D|H_0,I)=\\sigma^{-15}(2\\pi)^{-15/2}\\exp{\\left\\{\\frac{-\\Sigma_i(d_i-\\pi)^2}{2\\sigma^2}\\right\\}}$$\n",
    "\n",
    "where $d_i$ represents the data for $\\pi_{z}$.\n",
    "\n",
    "Model 1 tells us that $\\pi f_i$ is given by $\\pi_z=\\pi_0+A\\times Z$ where $\\pi_0=3.14159$ and the prior for $A$ follows the Gaussian distribution. So the prior for model 1 is \n",
    "\n",
    "$$P(A|H_1,I)=\\frac{1}{\\sqrt{2\\pi\\delta^2}}e^{\\frac{-A^2}{2\\delta^2}}$$\n",
    "\n",
    "The likelihood for model 1 given $A$ is \n",
    "$$L_1(A)=P(D|A,H_0,I)=\\sigma^{-15}(2\\pi)^{-15/2}\\exp{\\left\\{\\frac{-\\Sigma_i(d_i-\\pi_0-A\\times Z_i)^2}{2\\sigma^2}\\right\\}}$$\n",
    "\n",
    "The likelihood for model 1 requires us to marginalize the free paramater\n",
    "$$L_1=P(D|H_0,I)=\\int_{\\infty}^{\\infty}dA\\,P(A|H_1,I)\\,P(D|A,H_1,I)=\\int_{\\infty}^{\\infty}dA\\sigma^{-15}(2\\pi)^{-15/2}\\exp{\\left\\{\\frac{-\\Sigma_i(d_i-\\pi_0-A\\times Z_i)^2}{2\\sigma^2}\\right\\}}\\frac{1}{\\sqrt{2\\pi\\delta^2}}e^{\\frac{-A^2}{2\\delta^2}}$$\n",
    "\n",
    "Simplifying the exponential argument:\n",
    "$\\exp{\\left\\{\\frac{-\\Sigma_i(d_i-\\pi_0-A\\times Z_i)^2}{2\\sigma^2}\\right\\}}e^{\\frac{-A^2}{2\\delta^2}}=\\exp\\left\\{- \\frac{A^2}{2\\delta^2}-\\sum_i\\frac{d_i^2+\\pi_0^2-2d_i\\pi_0 + (Az_i)^2+2Az_i(\\pi_0-d_i)}{2\\sigma^2}\\right\\}$\n",
    "\n",
    "Define $s_{zz}=\\sum_i\\frac{z_i^2}{2\\sigma^2}$, $s_z=\\sum_i\\frac{z_i}{2\\sigma^2}$, $s_{dz}\\sum_i\\frac{d_iz_i}{2\\sigma^2}$\n",
    "\n",
    "So we can factor out $L_0$ this allows us to write \n",
    "$$L_1=P(D|M,I)=\\frac{L_0}{\\sqrt{2\\pi\\delta}}\\int_{-\\infty}^{\\infty}e^{-\\frac{A^2}{2\\delta^2}-A^2s_{zz}-2A(\\pi_0s_z-s_{dz})}$$\n",
    "\n",
    "Using the given integral \n",
    "$$L_1=L_0\\frac{1}{\\sqrt{2\\pi\\delta^2}}\\sqrt{\\frac{\\pi}{\\frac{1}{2\\delta^2}+s_{zz}}}\\exp\\left\\{\\frac{(2\\pi_0s_z-2s_{dz})^2}{4\\left(\\frac{1}{2\\delta^2}+s_{zz}\\right)}\\right\\}$$\n",
    "\n",
    "So the odds ratio is given by\n",
    "$$O_{10}=\\frac{1}{\\sqrt{2\\pi\\delta^2}}\\sqrt{\\frac{\\pi}{\\frac{1}{2\\delta^2}+s_{zz}}}\\exp\\left\\{\\frac{(2\\pi_0s_z-2s_{dz})^2}{4\\left(\\frac{1}{2\\delta^2}+s_{zz}\\right)}\\right\\}$$\n",
    "\n",
    "The probability that model 1 is right over model 0.\n",
    "$$p(H_1|D,I)=\\frac{1}{1+1/O_{10}}$$\n"
   ]
  },
  {
   "cell_type": "code",
   "execution_count": 170,
   "metadata": {},
   "outputs": [
    {
     "name": "stdout",
     "output_type": "stream",
     "text": [
      "Odds ratio is  1.698\n",
      "Probability that model 1 is right over model 2 is  0.629\n",
      "We can believe in the force as the odds ratio is greater than 1. But we cannot be greatly confident\n"
     ]
    }
   ],
   "source": [
    "import numpy as np\n",
    "\n",
    "Pi0 = 3.14159\n",
    "sigma = 0.75\n",
    "\n",
    "Z   = np.asarray([0.17, 0.46, 0.59, 0.79, 1.09, 1.38, 1.72, 1.80, 2.12, 2.37, 2.57, 2.91, 3.04, 3.38, 3.58])\n",
    "Piz = np.asarray([3.15, 3.03, 3.49, 3.02, 3.31, 2.73, 3.39, 2.92, 2.98, 2.78, 2.51, 1.94, 3.03, 2.67, 2.31])\n",
    "\n",
    "delta = 0.2\n",
    "sigma = 0.75\n",
    "pi=np.pi\n",
    "szz = sum(Z*Z)/2/sigma**2\n",
    "sz = sum(Z)/2/sigma**2\n",
    "sdz = sum(Z*Piz)/2/sigma**2\n",
    "\n",
    "def calcLike(data,model,sigma):\n",
    "    #enter data and models predictions for data as lists\n",
    "    #Assuming data has same length\n",
    "    #Calculates likelihood function given standard deviation\n",
    "    N = len(data)\n",
    "    errors = [(data[i] - model[i])**2 for i in range(0,N)]\n",
    "    return (np.sqrt(2*np.pi)*sigma)**(-N)*np.exp(-sum(errors)/2/sigma**2)\n",
    "\n",
    "odds = 1/np.sqrt(2*pi*delta**2)*np.sqrt(pi/(1/2/delta**2+szz))*np.exp((2*Pi0*sz-2*sdz)**2/(1/2/delta**2+szz)/4)\n",
    "\n",
    "print('Odds ratio is ', round(odds,3))\n",
    "print('Probability that model 1 is right over model 2 is ', round(1/(1+1/odds),3))\n",
    "print('We can believe in the force as the odds ratio is greater than 1. But we cannot be greatly confident')"
   ]
  },
  {
   "cell_type": "markdown",
   "metadata": {},
   "source": [
    "** (b) Professor Durran at Kessel State University is furious to see Antilles publication, having been working on something similar for years. Anger turns to hate, and hate turns to peer review. He claims that Antilles team have overestimated their uncertainties. He believes the true standard deviation of the errors is $\\sigma=0.45$? Re-do the computation assuming these smaller errors. What has happened to your confidence? Why? **\n",
    "\n",
    "Same as last question but change $\\sigma$"
   ]
  },
  {
   "cell_type": "code",
   "execution_count": 97,
   "metadata": {},
   "outputs": [
    {
     "name": "stdout",
     "output_type": "stream",
     "text": [
      "Odds ratio is  21.676\n",
      "Probability that model 1 is right over model 2 is now  0.956\n"
     ]
    }
   ],
   "source": [
    "Z   = np.array([0.17, 0.46, 0.59, 0.79, 1.09, 1.38, 1.72, 1.80, 2.12, 2.37, 2.57, 2.91, 3.04, 3.38, 3.58])\n",
    "Piz = np.array([3.15, 3.03, 3.49, 3.02, 3.31, 2.73, 3.39, 2.92, 2.98, 2.78, 2.51, 1.94, 3.03, 2.67, 2.31])\n",
    "delta = 0.2\n",
    "sigma = 0.45\n",
    "\n",
    "pi=np.pi\n",
    "\n",
    "szz = sum(Z*Z)/2/sigma**2\n",
    "sz = sum(Z)/2/sigma**2\n",
    "sdz = sum(Z*Piz)/2/sigma**2\n",
    "\n",
    "\n",
    "odds1 = 1/np.sqrt(2*pi*delta**2)*np.sqrt(pi/(1/2/delta**2+szz))*np.exp((2*Pi0*sz-2*sdz)**2/(1/2/delta**2+szz)/4)\n",
    "\n",
    "print('Odds ratio is ', round(odds1,3))\n",
    "print('Probability that model 1 is right over model 2 is now ', round(1/(1+1/odds1),3))"
   ]
  },
  {
   "cell_type": "markdown",
   "metadata": {},
   "source": [
    "Our confidence has increased significantly. This is because with a smaller standard deviation of errors we believe it is much less plausible that noise can explain the dataset, whereas the likelihood for the model is not penalised as much by the change in sigma.\n",
    "This increases our belief in the trend being predicted by the force. "
   ]
  },
  {
   "cell_type": "markdown",
   "metadata": {},
   "source": [
    "** (c) Assuming model $H_1$ and the original errors $\\sigma=0.75$, compute and plot the likelihood distribution for the free parameter $A$ over the interval 1 to -1. Using the Gaussian prior above with $\\delta=0.2$, plot also the posterior for A. **\n",
    "\n",
    "Our posterior is our prior multiplied by our likelihood\n",
    "\n",
    "For plotting I've normalised functions to area of 1."
   ]
  },
  {
   "cell_type": "code",
   "execution_count": 153,
   "metadata": {},
   "outputs": [
    {
     "name": "stdout",
     "output_type": "stream",
     "text": [
      "3.145612485954245e-05\n",
      "The maximum likelihood is  -0.138\n",
      "The location of the peak of the posterior is  -0.118\n"
     ]
    },
    {
     "data": {
      "image/png": "[encoded data removed]",
      "text/plain": [
       "<Figure size 432x288 with 1 Axes>"
      ]
     },
     "metadata": {},
     "output_type": "display_data"
    }
   ],
   "source": [
    "import matplotlib.pyplot as plt\n",
    "import numpy as np\n",
    "\n",
    "Z   = np.array([0.17, 0.46, 0.59, 0.79, 1.09, 1.38, 1.72, 1.80, 2.12, 2.37, 2.57, 2.91, 3.04, 3.38, 3.58])\n",
    "Piz = np.array([3.15, 3.03, 3.49, 3.02, 3.31, 2.73, 3.39, 2.92, 2.98, 2.78, 2.51, 1.94, 3.03, 2.67, 2.31])\n",
    "delta = 0.2\n",
    "sigma = 0.75\n",
    "\n",
    "pi=np.pi\n",
    "\n",
    "szz = sum(Z*Z)/2/sigma**2\n",
    "sz = sum(Z)/2/sigma**2\n",
    "sdz = sum(Z*Piz)/2/sigma**2\n",
    "\n",
    "Pi0 = 3.14159\n",
    "\n",
    "def calcLike(data,model,sigma):\n",
    "    #enter data and models predictions for data as lists\n",
    "    #Assuming data has same length\n",
    "    #Calculates likelihood function given standard deviation\n",
    "    N = len(data)\n",
    "    errors = [(data[i] - model[i])**2 for i in range(0,N)]\n",
    "    return (np.sqrt(2*np.pi)*sigma)**(-N)*np.exp(-sum(errors)/2/sigma**2)\n",
    "\n",
    "model0 = [np.pi for i in range(0,len(Piz))]\n",
    "like0 = calcLike(Piz,model0,0.75)\n",
    "\n",
    "def like1(A):\n",
    "    return like0*np.exp(-(1/2/delta**2+szz)*A**2+2*A*(sdz-Pi0*sz))*1/np.sqrt(2*pi*delta**2)\n",
    "\n",
    "def prior1(A):\n",
    "    return 1/np.sqrt(2*pi*delta**2)*np.exp(-A**2/2/delta**2)\n",
    "\n",
    "print(max(like1(A)))\n",
    "\n",
    "A = np.linspace(-10,10,100001)\n",
    "norm = like0*odds\n",
    "\n",
    "posterior = like1(A)*prior1(A)/norm\n",
    "\n",
    "like1f = like1(A)\n",
    "like1f /= sum(like1f)/100000*20 #normalising function \n",
    "\n",
    "posterior /= sum(posterior)/100000*20 #normalising function\n",
    "\n",
    "prior1f=prior1(A)\n",
    "prior1f /= sum(prior1f)/100000*20 #normalising function\n",
    "\n",
    "plt.figure()\n",
    "plt.plot(A,like1f)\n",
    "plt.plot(A,posterior)\n",
    "plt.plot(A,prior1(A))\n",
    "plt.xlabel('A')\n",
    "plt.xlim(-1,1)\n",
    "plt.legend(['Likelihood of A','Posterior of A','Prior of A'])\n",
    "\n",
    "\n",
    "print('The maximum likelihood is ', round(A[np.argmax(like1(A))],3))\n",
    "print('The location of the peak of the posterior is ', round(A[np.argmax(posterior)],3))"
   ]
  },
  {
   "cell_type": "code",
   "execution_count": 166,
   "metadata": {},
   "outputs": [
    {
     "name": "stdout",
     "output_type": "stream",
     "text": [
      "The maximum likelihood is  -0.167\n",
      "The location of the peak of the posterior is  -0.138\n"
     ]
    },
    {
     "data": {
      "image/png": "[encoded data removed]",
      "text/plain": [
       "<Figure size 432x288 with 1 Axes>"
      ]
     },
     "metadata": {},
     "output_type": "display_data"
    }
   ],
   "source": [
    "import matplotlib.pyplot as plt\n",
    "import numpy as np\n",
    "\n",
    "Z   = np.array([0.17, 0.46, 0.59, 0.79, 1.09, 1.38, 1.72, 1.80, 2.12, 2.37, 2.57, 2.91, 3.04, 3.38, 3.58])\n",
    "Piz = np.array([3.15, 3.03, 3.49, 3.02, 3.31, 2.73, 3.39, 2.92, 2.98, 2.78, 2.51, 1.94, 3.03, 2.67, 2.31])\n",
    "delta = 0.2\n",
    "sigma = 0.75\n",
    "\n",
    "pi=np.pi\n",
    "\n",
    "szz = sum(Z*Z)/2/sigma**2\n",
    "sz = sum(Z)/2/sigma**2\n",
    "sdz = sum(Z*Piz)/2/sigma**2\n",
    "\n",
    "Pi0 = 3.14159\n",
    "\n",
    "def calcLike(data,model,sigma):\n",
    "    #enter data and models predictions for data as lists\n",
    "    #Assuming data has same length\n",
    "    #Calculates likelihood function given standard deviation\n",
    "    N = len(data)\n",
    "    errors = [(data[i] - model[i])**2 for i in range(0,N)]\n",
    "    return (np.sqrt(2*np.pi)*sigma)**(-N)*np.exp(-sum(errors)/2/sigma**2)\n",
    "\n",
    "model0 = [np.pi for i in range(0,len(Piz))]\n",
    "like0 = calcLike(Piz,model0,0.75)\n",
    "\n",
    "def posterior(A): #calculated analytically in (a). This is what we integrated over\n",
    "    return like0*np.exp(-(1/2/delta**2+szz)*A**2+2*A*(sdz-Pi0*sz))*1/np.sqrt(2*pi*delta**2)\n",
    "\n",
    "A = np.linspace(-10,10,100001)\n",
    "model1 = [Pi0 + A*Z[i] for i in range(0,len(Piz))]\n",
    "\n",
    "like1 = calcLike(Piz,model1,0.75)\n",
    "\n",
    "posterior = like0*np.exp(-(1/2/delta**2+szz)*A**2+2*A*(sdz-Pi0*sz))*1/np.sqrt(2*pi*delta**2)\n",
    "\n",
    "prior = 1/np.sqrt(2*pi*delta**2)*np.exp(-A**2/2/delta**2)\n",
    "\n",
    "Nlike1 = like1/( sum(like1)/100000*20) #normalising function \n",
    "\n",
    "Nposterior = posterior/( sum(posterior)/100000*20) #normalising function\n",
    "\n",
    "Nprior = prior/(sum(prior)/100000*20) #normalising function\n",
    "\n",
    "plt.figure()\n",
    "plt.plot(A,Nlike1)\n",
    "plt.plot(A,Nposterior)\n",
    "plt.plot(A,Nprior)\n",
    "plt.xlabel('A')\n",
    "plt.xlim(-1,1)\n",
    "plt.legend(['Likelihood of A','Posterior of A','Prior of A'])\n",
    "\n",
    "\n",
    "print('The maximum likelihood is ', round(A[np.argmax(like1)],3))\n",
    "print('The location of the peak of the posterior is ', round(A[np.argmax(posterior)],3))"
   ]
  },
  {
   "cell_type": "markdown",
   "metadata": {},
   "source": [
    "** (d) Using results obtained so far, what was the Occam factor which applies to the marginalization operation in part (a) **\n",
    "Let $A_{max}$ be the maximum likelihood which we found in the last question. The Occam factor is $\\frac{L_1}{L_1(A_{max})}=\\frac{P(D|H_1,I)}{max(P(A|H_1,D,I)}$ where $L_1$ is the marginalised likelihood."
   ]
  },
  {
   "cell_type": "code",
   "execution_count": 172,
   "metadata": {},
   "outputs": [
    {
     "name": "stdout",
     "output_type": "stream",
     "text": [
      "The occam factor is  0.308\n"
     ]
    }
   ],
   "source": [
    "Occam = like0*odds/max(like1)\n",
    "print('The occam factor is ',round(Occam,3))"
   ]
  },
  {
   "cell_type": "markdown",
   "metadata": {},
   "source": [
    "# Question 4\n",
    "** A research submersible has lost contact with its surface support vessel. Led by Captain Neyman, the crew are desperate to drop a rescue line, which they wish to fall as close as possible to the location of the submersible exit hatch. The submarine is exactly 10 m in total length, and the location of the hatch, θ, is exactly halfway along the hull. The only evidence available to the surface rescue team is the observation of bubbles which are known to originate randomly from any point along the entire length of the submarine with uniform probability. The support vessel measures these locations {x1, x2, ...} with respect to a fixed origin on the surface.**\n",
    "\n",
    "<img src=\"https://raw.githubusercontent.com/joelhochstetter/BayesianReasoningAssignment/master/BR_Image2.PNG\">\n"
   ]
  },
  {
   "cell_type": "markdown",
   "metadata": {},
   "source": [
    "** (a) With a single bubble observed at location $x1 = 5$m, sketch the likelihood function for θ, the location of the hatch as a function of x. **\n",
    "\n",
    "The likelihood function $P(X_1|\\theta)$ is the probability that we obtain this data given that we know θ. This is just a uniform distribution (from θ = 0m to θ = 10m) centred at the data point since the only prior information is that bubbles come from anywhere along the submarine."
   ]
  },
  {
   "cell_type": "code",
   "execution_count": 66,
   "metadata": {},
   "outputs": [
    {
     "data": {
      "image/png": "[encoded data removed]",
      "text/plain": [
       "<Figure size 432x288 with 1 Axes>"
      ]
     },
     "metadata": {},
     "output_type": "display_data"
    }
   ],
   "source": [
    "import matplotlib.pyplot as plt\n",
    "import numpy as np\n",
    "\n",
    "x=np.linspace(0,20,10001)\n",
    "def like(point,x): #plots a \n",
    "    like1 = []\n",
    "    for xi in x:\n",
    "        #if abs(xi - point) >= 10:\n",
    "        if abs(xi - point) >= 5:\n",
    "            like1.append(0)\n",
    "        else:\n",
    "            #like1.append((10-abs(xi-point))/100)\n",
    "            like1.append(1/10)\n",
    "    return np.asarray(like1)\n",
    "    \n",
    "like1 = like(5,x)\n",
    "plt.plot(x,like1)\n",
    "plt.title('Likelihood for obtaining x1 = 5m given θ')\n",
    "plt.xlabel('θ (m)')\n",
    "plt.ylabel('P(x1=5|θ)')\n",
    "plt.show()"
   ]
  },
  {
   "cell_type": "markdown",
   "metadata": {},
   "source": [
    "** (b) A second bubble appears at location $x2 = 13$ m. Now over-plot the new likelihood function for $\\theta$.**\n",
    "\n",
    "We consider a uniform prior since initially we have no information about the location of the hatch.\n",
    "\n",
    "The likelihood function for $\\theta$ now considers all data so is $P(X_1,X_2|\\theta)=P(X_1|\\theta)P(X_2|X_1,\\theta)=P(X_1|\\theta)P(X_2|\\theta)$ since $X_1$ and $X_2$ are indepedent.\n",
    "\n",
    "$P(X_2|\\theta)$ is the uniform distribution from 8m to 18m.\n",
    "\n",
    "Hence the likelihood is the uniform distribution from 8m to 10m."
   ]
  },
  {
   "cell_type": "code",
   "execution_count": 68,
   "metadata": {},
   "outputs": [
    {
     "data": {
      "image/png": "[encoded data removed]",
      "text/plain": [
       "<Figure size 432x288 with 1 Axes>"
      ]
     },
     "metadata": {},
     "output_type": "display_data"
    }
   ],
   "source": [
    "like2 = like1*like(13,x)\n",
    "like2 /= (sum(like2)*20/10000) #normalise by dividing by area\n",
    "plt.plot(x,like2)\n",
    "plt.title('Likelihood for obtaining x1 = 5m and x2 = 13m given θ')\n",
    "plt.xlabel('θ (m)')\n",
    "plt.ylabel('P(X1,X2|θ)')\n",
    "plt.show()\n",
    "plt.show()"
   ]
  },
  {
   "cell_type": "markdown",
   "metadata": {},
   "source": [
    "** (c) While getting the rescue line ready, 4 more bubbles appear. Their locations are at x3, .. x6 = {7, 11, 10, 7}. Indicate on your plot the likelihood function that accounts for all six bubbles.**\n",
    "\n",
    "Similarly each bubble is independent to the last so we can write our likelihood $P(X_1,..,X_6|I)=\\prod_{i=1}^6P(X_i|I)$\n",
    "The likelihood is the same as the last question as all new data lie between 5m and 13m so when multiplying by the relevant uniform distribution our distibution is unchanged."
   ]
  },
  {
   "cell_type": "code",
   "execution_count": 71,
   "metadata": {},
   "outputs": [
    {
     "data": {
      "image/png": "[encoded data removed]",
      "text/plain": [
       "<Figure size 432x288 with 1 Axes>"
      ]
     },
     "metadata": {},
     "output_type": "display_data"
    }
   ],
   "source": [
    "like6 = like2*like(7,x)*like(11,x)*like(10,x)*like(7,x)\n",
    "like6 /= (sum(like6)*20/10000) #normalise by dividing by area\n",
    "plt.plot(x,like6)\n",
    "plt.title('Likelihood for obtaining x1,..,x6')\n",
    "plt.xlabel('θ (m)')\n",
    "plt.ylabel('P(X1,...,X6|θ)')\n",
    "plt.show()"
   ]
  },
  {
   "cell_type": "markdown",
   "metadata": {},
   "source": [
    "** (d) Captain Neyman decides to use the Mean and Standard Deviation of the {x1, .. x6} as his estimator for the location and uncertainty of $\\theta$, however he is worried that his data set is too limited to get accurate estimates. Write down two example bootstrap resample distributions of the 6 known bubble locations that illustrate to Neyman how to do a bootstrap analysis. **\n",
    "\n",
    "For bootstrapping we randomly sample from our original sample with replacements. \n",
    "\n",
    "This allows us to calculate sample statistics such as the mean and standard deviation.\n",
    "\n",
    "My bootstrap resample distributions are called boot1 and boot2."
   ]
  },
  {
   "cell_type": "code",
   "execution_count": 89,
   "metadata": {},
   "outputs": [
    {
     "name": "stdout",
     "output_type": "stream",
     "text": [
      "Bootstrap sample distribution 1: [5, 13, 7, 11, 13, 11]  has mean  10.0 m and standard deviation  3.0 m\n",
      "\n",
      "Bootstrap sample distribution 2: [11, 10, 7, 11, 13, 11]  has mean  10.5 m and standard deviation  3.0 m\n",
      "Estimate of mean of distribution:  10.25 m with standard deviation 0.25 m\n"
     ]
    }
   ],
   "source": [
    "pts   = [ 5,13, 7,11,10,7]\n",
    "boot1 = [ 5,13, 7,11,13,11]\n",
    "boot2 = [11,10, 7,11, 13,11]\n",
    "meanBoot = [np.mean(boot1),np.mean(boot2)]\n",
    "mean = np.mean(meanBoot)\n",
    "mstd = np.std(meanBoot)\n",
    "stdBoot = [np.std(boot1),np.std(boot2)]\n",
    "std = np.mean(stdBoot)\n",
    "stdstd = np.std(stdBoot)\n",
    "\n",
    "print('Bootstrap sample distribution 1:', boot1, ' has mean ', meanBoot[0], 'm and standard deviation ', stdBoot[0], 'm\\n')\n",
    "\n",
    "print('Bootstrap sample distribution 2:', boot2, ' has mean ', meanBoot[1], 'm and standard deviation ', stdBoot[0], 'm')\n",
    "\n",
    "print('Estimate of mean of distribution: ', mean, 'm with standard deviation', mstd, 'm')"
   ]
  },
  {
   "cell_type": "markdown",
   "metadata": {},
   "source": [
    "** (e) With time ticking away, Neyman thinks it better to wait for more bubbles so that the standard deviation statistic for $\\theta$ becomes smaller. Noting that the four recent bubbles were all at locations between the original two x1, x2, what would you tell Neyman about how much better knowledge we have of $\\theta$ from the last 4 bubbles?**\n",
    "\n",
    "He has not gained anymore knowledge as the likelihood is unchanged. He will only gain more information by obtaining bubbles less than 5m or greater than 13m given his current data (i.e. outside the current bounds of data points). His current \"best guess\" for $\\theta$ can be taken to be the halfway point of his distribution which is 9m\n"
   ]
  }
 ],
 "metadata": {
  "kernelspec": {
   "display_name": "Python 3",
   "language": "python",
   "name": "python3"
  },
  "language_info": {
   "codemirror_mode": {
    "name": "ipython",
    "version": 3
   },
   "file_extension": ".py",
   "mimetype": "text/x-python",
   "name": "python",
   "nbconvert_exporter": "python",
   "pygments_lexer": "ipython3",
   "version": "3.6.5"
  }
 },
 "nbformat": 4,
 "nbformat_minor": 2
}
