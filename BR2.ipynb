{
 "cells": [
  {
   "cell_type": "markdown",
   "metadata": {},
   "source": [
    "# Bayesian Coin Toss\n",
    "\n",
    "Bayes theorem states that \n",
    "$$P(H_i|D,I)=\\frac{P(H_i|I) P(D|H_i I)}{P(D|I)}$$\n",
    "\n",
    "$H_i$ proposition asserting truth of a hypothesis of interest\n",
    "\n",
    "I is proposition representing prior information\n",
    "\n",
    "D is proposition represeting data\n",
    "\n",
    "$P(D|I)$ is a normalisation factor\n",
    "\n",
    "$P(H_i|D,I)$ is called the posterior. Probability of hypothesis being true given data and prior information.\n",
    "\n",
    "$P(D|H_i I)$ is called the likelihood. Probability of obtaining the data given that the hypothesis is true\n",
    "\n",
    "$P(H_i|I)$ is the probability of the hypothesis being true given new data\n"
   ]
  },
  {
   "cell_type": "code",
   "execution_count": 1,
   "metadata": {},
   "outputs": [],
   "source": [
    "import numpy as np \n",
    "import matplotlib.pyplot as plt \n",
    "import random\n",
    "\n",
    "maxInt = 2**31-1\n",
    "N = int(1e3)\n",
    "\n",
    "\n",
    "class coin(object):\n",
    "    def __init__(self, bias, initprior = None):\n",
    "        self.bias = bias\n",
    "        self.tossL = []\n",
    "        self.nH = 0\n",
    "        self.nT = 0\n",
    "        self.x = np.linspace(0, 1, N)\n",
    "        self.likelihood = np.ones(N)\n",
    "        if initprior:\n",
    "            self.prior = initprior\n",
    "        else: \n",
    "            self.prior = 1/N*np.ones(N)\n",
    "        self.posterior = np.copy(self.prior)\n",
    "\n",
    "\n",
    "    def toss(self):\n",
    "        rnd = np.random.randint(0, maxInt)\n",
    "        if rnd < int(self.bias * maxInt):\n",
    "            self.tossL.append(1)\n",
    "            self.nH += 1\n",
    "        else: \n",
    "            self.tossL.append(0)\n",
    "            self.nT += 1\n",
    "        self.bayes(self.posterior) #apply bayes theorem using previous posterior as prior\n",
    "\n",
    "    def calcLike(self):\n",
    "        for i in range(0,N):\n",
    "            p = self.x[i]\n",
    "            self.likelihood[i] = p**self.nH*(1-p)**self.nT\n",
    "\n",
    "\n",
    "    def bayes(self, newPrior = None):\n",
    "        if newPrior is not None:\n",
    "            self.prior = np.copy(newPrior)\n",
    "        self.calcLike()\n",
    "        self.posterior = np.copy(self.prior)*self.likelihood\n",
    "        self.normalise()\n",
    "\n",
    "\n",
    "    def normalise(self):\n",
    "        #normalises the posterior distribution\n",
    "        norm = 1 / sum(self.posterior)\n",
    "        self.posterior *= norm\n",
    "\n",
    "    def plot(self, mode):\n",
    "        #mode = 0 (prior), 1 (posterior), 2 (likelihood)\n",
    "        if mode == 0:\n",
    "            y = self.prior \n",
    "            title = \"Prior\"\n",
    "        elif mode == 1:\n",
    "            y = self.posterior\n",
    "            title = \"Posterior\"\n",
    "        elif mode == 2:\n",
    "            y = self.likelihood\n",
    "            title = \"Likelihood\"\n",
    "        plt.figure()\n",
    "        plt.title(title)\n",
    "        plt.xlabel(\"Proposition of proportion of H\")\n",
    "        plt.ylabel(\"Distribution\")\n",
    "        plt.xlim([0,1])\n",
    "        #plt.ylim([0,1])\n",
    "        plt.plot(self.x,y)\n",
    "        plt.show()\n",
    "\n",
    "    def H(self):\n",
    "        return self.nH\n",
    "\n",
    "    def T(self):\n",
    "        return self.nT"
   ]
  },
  {
   "cell_type": "code",
   "execution_count": 6,
   "metadata": {},
   "outputs": [
    {
     "name": "stdout",
     "output_type": "stream",
     "text": [
      "527 473\n"
     ]
    },
    {
     "data": {
      "image/png": "[encoded data removed]",
      "text/plain": [
       "<Figure size 432x288 with 1 Axes>"
      ]
     },
     "metadata": {},
     "output_type": "display_data"
    }
   ],
   "source": [
    "c1 = coin(0.5)\n",
    "\n",
    "for i in range(0,1000):\n",
    "    c1.toss()\n",
    "\n",
    "print(c1.H(), c1.T())\n",
    "c1.plot(0)"
   ]
  },
  {
   "cell_type": "code",
   "execution_count": 3,
   "metadata": {},
   "outputs": [
    {
     "name": "stdout",
     "output_type": "stream",
     "text": [
      "50 0\n"
     ]
    },
    {
     "data": {
      "image/png": "[encoded data removed]",
      "text/plain": [
       "<Figure size 432x288 with 1 Axes>"
      ]
     },
     "metadata": {},
     "output_type": "display_data"
    }
   ],
   "source": [
    "c2 = coin(1)\n",
    "\n",
    "for i in range(0,50):\n",
    "    c2.toss()\n",
    "\n",
    "print(c2.H(), c2.T())\n",
    "c2.plot(1)"
   ]
  },
  {
   "cell_type": "markdown",
   "metadata": {},
   "source": [
    "Notes:\n",
    "If we have nuisance parameter that we don't care about then we sum over all the possible options"
   ]
  },
  {
   "cell_type": "code",
   "execution_count": null,
   "metadata": {},
   "outputs": [],
   "source": []
  }
 ],
 "metadata": {
  "kernelspec": {
   "display_name": "Python 3",
   "language": "python",
   "name": "python3"
  },
  "language_info": {
   "codemirror_mode": {
    "name": "ipython",
    "version": 3
   },
   "file_extension": ".py",
   "mimetype": "text/x-python",
   "name": "python",
   "nbconvert_exporter": "python",
   "pygments_lexer": "ipython3",
   "version": "3.6.5"
  }
 },
 "nbformat": 4,
 "nbformat_minor": 2
}
